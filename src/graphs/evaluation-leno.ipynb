{
 "cells": [
  {
   "cell_type": "code",
   "execution_count": null,
   "metadata": {
    "collapsed": true
   },
   "outputs": [],
   "source": []
  },
  {
   "cell_type": "code",
   "execution_count": null,
   "metadata": {
    "collapsed": true
   },
   "outputs": [],
   "source": []
  },
  {
   "cell_type": "code",
   "execution_count": null,
   "metadata": {
    "scrolled": false
   },
   "outputs": [
    {
     "name": "stdout",
     "output_type": "stream",
     "text": [
      "Could use 50 runs from expected 50\n",
      "len(evalUsedBudgets) 101 --> <class 'list'> 0\n",
      "Could use 50 runs from expected 50\n",
      "len(evalUsedBudgets) 101 --> <class 'list'> 0\n",
      "Could use 50 runs from expected 50\n",
      "len(evalUsedBudgets) 101 --> <class 'list'> 0\n"
     ]
    }
   ],
   "source": [
    "import exp_utils\n",
    "\n",
    "#Folder containing all experiment files\n",
    "fileFolder = '../../log/'\n",
    "#Experiment 1 - 1 agent against 1 opponent\n",
    "\n",
    "nAgents = 1\n",
    "\n",
    "source1 = fileFolder + '1Agent/C51_Average_Prior_1Agent'\n",
    "source2 = fileFolder + '1Agent/DQNAgent_1Agent'\n",
    "source3 = fileFolder + '1Agent/C51Thres_1Agent_0.5'\n",
    "source4 = fileFolder + 'EpisodeSharing'\n",
    "source5 = fileFolder + 'SARSATile'\n",
    "source6 = fileFolder + 'Dummy'\n",
    "\n",
    "name1 = 'C51_Average'\n",
    "name2 = 'DQN'\n",
    "name3 = 'C51_Threshold'\n",
    "name4 = 'EpisodeSharing'\n",
    "name5 = 'NoAdvice'\n",
    "name6 = 'Scratch'\n",
    "\n",
    "\n",
    "#Prepare intermediary files with experiment's summary.\n",
    "exp_utils.collect_experiment_data(source1, runs = 50,compact=False, agents = nAgents)\n",
    "exp_utils.summarize_experiment_data(source1,compact=False)\n",
    "#exp_utils.cummulative_experiment_data(source1,compact=True)\n",
    "exp_utils.collect_experiment_data(source2, runs = 50,compact=False, agents = nAgents)\n",
    "exp_utils.summarize_experiment_data(source2,compact=False)\n",
    "#exp_utils.cummulative_experiment_data(source2,compact=True)\n",
    "exp_utils.collect_experiment_data(source3, runs = 50,compact=False, agents = nAgents)\n",
    "exp_utils.summarize_experiment_data(source3,compact=False)\n",
    "\n",
    "\n",
    "#Intervals for zoomed averages\n",
    "xMinPerc = 4500\n",
    "xMaxPerc = 5000\n",
    "yMinPerc = 64\n",
    "yMaxPerc = 75\n",
    "\n",
    "#Intervals for Time for Goal graphs\n",
    "xMinStep = 3000\n",
    "xMaxStep = 5000\n",
    "yMinStep = 95\n",
    "yMaxStep = 110\n",
    "\n",
    "xMinStep2 = 0\n",
    "xMaxStep2 = 1000\n",
    "yMinStep2 = 30\n",
    "yMaxStep2 = 110\n",
    "\n",
    "\n",
    "printCI = True\n",
    "\n",
    "\n",
    "\n",
    "\n",
    "exp_utils.draw_graph(source1=source1, source2=source2, source3=source3,#source4 = source4,source5=source5,source6=source6,\n",
    "                     name6=name6,name5=name5,name4=name4, name3=name3,name1=name1, name2=name2,ci=printCI)\n",
    "\n",
    "\n",
    "\n",
    "\n",
    "nAgents = 1\n",
    "\n",
    "source1 = fileFolder + '2Agent2Oppo/C51Thres_Prior_2Agent_0.5'\n",
    "source2 = fileFolder + 'DQNAgent'\n",
    "source3 = fileFolder + '1Agent/C51Thres_1Agent_0.5'\n",
    "source4 = fileFolder + 'EpisodeSharing'\n",
    "source5 = fileFolder + 'SARSATile'\n",
    "source6 = fileFolder + 'Dummy'\n",
    "\n",
    "name1 = 'C51_Threshold'\n",
    "name2 = 'DQN'\n",
    "name3 = 'C51_Threshold'\n",
    "name4 = 'EpisodeSharing'\n",
    "name5 = 'NoAdvice'\n",
    "name6 = 'Scratch'\n",
    "\n",
    "\n",
    "#Prepare intermediary files with experiment's summary.\n",
    "exp_utils.collect_experiment_data(source1, runs = 50,compact=False, agents = nAgents)\n",
    "exp_utils.summarize_experiment_data(source1,compact=False)\n",
    "#exp_utils.cummulative_experiment_data(source1,compact=True)\n",
    "exp_utils.collect_experiment_data(source2, runs = 50,compact=False, agents = nAgents)\n",
    "exp_utils.summarize_experiment_data(source2,compact=False)\n",
    "#exp_utils.cummulative_experiment_data(source2,compact=True)\n",
    "exp_utils.collect_experiment_data(source3, runs = 50,compact=False, agents = nAgents)\n",
    "exp_utils.summarize_experiment_data(source3,compact=False)\n",
    "\n",
    "\n",
    "#Intervals for zoomed averages\n",
    "xMinPerc = 4500\n",
    "xMaxPerc = 5000\n",
    "yMinPerc = 64\n",
    "yMaxPerc = 75\n",
    "\n",
    "#Intervals for Time for Goal graphs\n",
    "xMinStep = 3000\n",
    "xMaxStep = 5000\n",
    "yMinStep = 95\n",
    "yMaxStep = 110\n",
    "\n",
    "xMinStep2 = 0\n",
    "xMaxStep2 = 1000\n",
    "yMinStep2 = 30\n",
    "yMaxStep2 = 110\n",
    "\n",
    "\n",
    "printCI = True\n",
    "\n",
    "exp_utils.draw_graph(source1=source1, source2=source2, #source3=source3,#source4 = source4,source5=source5,source6=source6,\n",
    "                     name6=name6,name5=name5,name4=name4, name3=name3,name1=name1, name2=name2,ci=printCI)\n"
   ]
  },
  {
   "cell_type": "code",
   "execution_count": null,
   "metadata": {
    "collapsed": true
   },
   "outputs": [],
   "source": []
  },
  {
   "cell_type": "code",
   "execution_count": null,
   "metadata": {
    "collapsed": true
   },
   "outputs": [],
   "source": []
  }
 ],
 "metadata": {
  "anaconda-cloud": {},
  "kernelspec": {
   "display_name": "Python 3",
   "language": "python",
   "name": "python3"
  },
  "language_info": {
   "codemirror_mode": {
    "name": "ipython",
    "version": 3
   },
   "file_extension": ".py",
   "mimetype": "text/x-python",
   "name": "python",
   "nbconvert_exporter": "python",
   "pygments_lexer": "ipython3",
   "version": "3.6.1"
  }
 },
 "nbformat": 4,
 "nbformat_minor": 1
}
